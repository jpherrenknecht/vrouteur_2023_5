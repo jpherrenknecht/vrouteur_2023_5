{
 "cells": [
  {
   "cell_type": "markdown",
   "id": "0bec1779-0a58-42e8-9f4d-f07e14092e10",
   "metadata": {},
   "source": [
    "Test Jupyter"
   ]
  },
  {
   "cell_type": "code",
   "execution_count": null,
   "id": "464ed28c-d082-4cd8-9dad-18885983611a",
   "metadata": {},
   "outputs": [],
   "source": [
    "import numpy as np\n",
    "a=np.array([1,5])\n",
    "print (a)"
   ]
  }
 ],
 "metadata": {
  "kernelspec": {
   "display_name": "Python 3 (ipykernel)",
   "language": "python",
   "name": "python3"
  },
  "language_info": {
   "codemirror_mode": {
    "name": "ipython",
    "version": 3
   },
   "file_extension": ".py",
   "mimetype": "text/x-python",
   "name": "python",
   "nbconvert_exporter": "python",
   "pygments_lexer": "ipython3",
   "version": "3.9.12"
  }
 },
 "nbformat": 4,
 "nbformat_minor": 5
}
